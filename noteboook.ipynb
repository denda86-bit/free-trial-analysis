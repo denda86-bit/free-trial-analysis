{
 "cells": [
  {
   "cell_type": "code",
   "execution_count": 3,
   "metadata": {},
   "outputs": [],
   "source": [
    "import os\n",
    "import pandas as pd\n",
    "import numpy as np\n",
    "from statsmodels.stats.power import TTestIndPower\n",
    "from statsmodels.stats.proportion import proportions_ztest\n",
    "from scipy.stats import ttest_ind, mannwhitneyu\n",
    "import matplotlib.pyplot as plt\n",
    "import seaborn as sn"
   ]
  },
  {
   "cell_type": "markdown",
   "metadata": {},
   "source": [
    "# Exploration and trasformation of data"
   ]
  },
  {
   "cell_type": "markdown",
   "metadata": {},
   "source": [
    "1. Import data to pandas Dataframe"
   ]
  },
  {
   "cell_type": "code",
   "execution_count": 4,
   "metadata": {},
   "outputs": [],
   "source": [
    "df = pd.read_csv(os.path.join(os.getcwd(),'final_redshift_table.csv'))"
   ]
  },
  {
   "cell_type": "markdown",
   "metadata": {},
   "source": [
    "2. Feature transformation and engineering"
   ]
  },
  {
   "cell_type": "markdown",
   "metadata": {},
   "source": [
    "Change datetime string to datetime object"
   ]
  },
  {
   "cell_type": "code",
   "execution_count": 5,
   "metadata": {},
   "outputs": [],
   "source": [
    "for col in ['end_variant', 'start_variant', 'signup_date', 'purchased_at_trial', 'purchased_at_sub']:\n",
    "    df[col] = pd.to_datetime(df[col])"
   ]
  },
  {
   "cell_type": "markdown",
   "metadata": {},
   "source": [
    "Number of days for each variant"
   ]
  },
  {
   "cell_type": "code",
   "execution_count": 6,
   "metadata": {},
   "outputs": [],
   "source": [
    "df['days_diff'] = (df['end_variant']-df['start_variant']).dt.days"
   ]
  },
  {
   "cell_type": "markdown",
   "metadata": {},
   "source": [
    "Number of days needed from the signup to subscription datetime"
   ]
  },
  {
   "cell_type": "code",
   "execution_count": 7,
   "metadata": {},
   "outputs": [],
   "source": [
    "df['days_signup_sub'] = (df['purchased_at_sub']-df['signup_date']).dt.days"
   ]
  },
  {
   "cell_type": "markdown",
   "metadata": {},
   "source": [
    "3. Description of Dataframe columns"
   ]
  },
  {
   "cell_type": "code",
   "execution_count": 8,
   "metadata": {},
   "outputs": [
    {
     "data": {
      "text/plain": [
       "Index(['user_id', 'end_variant', 'start_variant', 'variant', 'signup_date',\n",
       "       'trial', 'plan_id_trial', 'subscription', 'plan_id_sub',\n",
       "       'purchased_at_trial', 'purchased_at_sub', 'amount', 'days_diff',\n",
       "       'days_signup_sub'],\n",
       "      dtype='object')"
      ]
     },
     "execution_count": 8,
     "metadata": {},
     "output_type": "execute_result"
    }
   ],
   "source": [
    "df.columns"
   ]
  },
  {
   "cell_type": "code",
   "execution_count": 9,
   "metadata": {},
   "outputs": [
    {
     "data": {
      "text/plain": [
       "user_id                       object\n",
       "end_variant           datetime64[ns]\n",
       "start_variant         datetime64[ns]\n",
       "variant                       object\n",
       "signup_date           datetime64[ns]\n",
       "trial                        float64\n",
       "plan_id_trial                 object\n",
       "subscription                 float64\n",
       "plan_id_sub                   object\n",
       "purchased_at_trial    datetime64[ns]\n",
       "purchased_at_sub      datetime64[ns]\n",
       "amount                       float64\n",
       "days_diff                      int64\n",
       "days_signup_sub              float64\n",
       "dtype: object"
      ]
     },
     "execution_count": 9,
     "metadata": {},
     "output_type": "execute_result"
    }
   ],
   "source": [
    "df.dtypes"
   ]
  },
  {
   "cell_type": "markdown",
   "metadata": {},
   "source": [
    "- `user_id` : unique id for users\n",
    "- `end_variant`: minimum assigned datetime of the variant\n",
    "- `start_variant`: maximum assigned datetime of the variant\n",
    "- `variant`: name of A/B test variant : CONTROL/TREATMENT\n",
    "- `signup_date`: datetime when the user signed up \n",
    "- `trial`: whether the user started a 7-days free trial - 1 or NaN\n",
    "- `plan_id_trial`: subscription plan for which the user started a free trial\n",
    "- `subscription`: whether the user subscribed - 1 or NaN\n",
    "- `plan_id_sub`: subscription plan\n",
    "- `purchased_at_trial`: datetime when the user started the free trial\n",
    "- `purchased_at_sub`: datetime when the user subscribed for a specific plan\n",
    "- `amount`: paid amount for the subscription to a specific plan"
   ]
  },
  {
   "cell_type": "markdown",
   "metadata": {},
   "source": [
    "4. Equal number of days for the CONTROL and TREATMENT groups: 18 days"
   ]
  },
  {
   "cell_type": "code",
   "execution_count": 10,
   "metadata": {},
   "outputs": [
    {
     "data": {
      "text/plain": [
       "array([18])"
      ]
     },
     "execution_count": 10,
     "metadata": {},
     "output_type": "execute_result"
    }
   ],
   "source": [
    "df.loc[(df.variant==\"CONTROL\")]['days_diff'].unique()"
   ]
  },
  {
   "cell_type": "code",
   "execution_count": 11,
   "metadata": {},
   "outputs": [
    {
     "data": {
      "text/plain": [
       "array([18])"
      ]
     },
     "execution_count": 11,
     "metadata": {},
     "output_type": "execute_result"
    }
   ],
   "source": [
    "df.loc[(df.variant==\"TREATMENT\")]['days_diff'].unique()"
   ]
  },
  {
   "cell_type": "markdown",
   "metadata": {},
   "source": [
    "5. Checking for errors in assigning users to the each variant"
   ]
  },
  {
   "cell_type": "code",
   "execution_count": 12,
   "metadata": {},
   "outputs": [
    {
     "data": {
      "text/html": [
       "<div>\n",
       "<style scoped>\n",
       "    .dataframe tbody tr th:only-of-type {\n",
       "        vertical-align: middle;\n",
       "    }\n",
       "\n",
       "    .dataframe tbody tr th {\n",
       "        vertical-align: top;\n",
       "    }\n",
       "\n",
       "    .dataframe thead th {\n",
       "        text-align: right;\n",
       "    }\n",
       "</style>\n",
       "<table border=\"1\" class=\"dataframe\">\n",
       "  <thead>\n",
       "    <tr style=\"text-align: right;\">\n",
       "      <th></th>\n",
       "      <th>user_id</th>\n",
       "      <th>end_variant</th>\n",
       "      <th>start_variant</th>\n",
       "      <th>variant</th>\n",
       "      <th>signup_date</th>\n",
       "      <th>trial</th>\n",
       "      <th>plan_id_trial</th>\n",
       "      <th>subscription</th>\n",
       "      <th>plan_id_sub</th>\n",
       "      <th>purchased_at_trial</th>\n",
       "      <th>purchased_at_sub</th>\n",
       "      <th>amount</th>\n",
       "      <th>days_diff</th>\n",
       "      <th>days_signup_sub</th>\n",
       "    </tr>\n",
       "  </thead>\n",
       "  <tbody>\n",
       "    <tr>\n",
       "      <th>3391</th>\n",
       "      <td>8e16a33ed971091fdc32af60685c81db</td>\n",
       "      <td>2019-06-24 14:10:50.938540</td>\n",
       "      <td>2019-06-06 09:38:45.209868</td>\n",
       "      <td>CONTROL</td>\n",
       "      <td>2019-06-20 13:54:53.715</td>\n",
       "      <td>1.0</td>\n",
       "      <td>6-months</td>\n",
       "      <td>1.0</td>\n",
       "      <td>6-months</td>\n",
       "      <td>2019-06-20 13:59:45</td>\n",
       "      <td>2019-06-27 13:59:45</td>\n",
       "      <td>12.0</td>\n",
       "      <td>18</td>\n",
       "      <td>7.0</td>\n",
       "    </tr>\n",
       "    <tr>\n",
       "      <th>12889</th>\n",
       "      <td>b696fc0c2b72d780ede50c4e481f2f4c</td>\n",
       "      <td>2019-06-24 14:10:50.938540</td>\n",
       "      <td>2019-06-06 09:38:45.209868</td>\n",
       "      <td>CONTROL</td>\n",
       "      <td>2019-06-22 06:58:47.257</td>\n",
       "      <td>1.0</td>\n",
       "      <td>6-months</td>\n",
       "      <td>NaN</td>\n",
       "      <td>NaN</td>\n",
       "      <td>2019-11-03 14:53:53</td>\n",
       "      <td>NaT</td>\n",
       "      <td>NaN</td>\n",
       "      <td>18</td>\n",
       "      <td>NaN</td>\n",
       "    </tr>\n",
       "    <tr>\n",
       "      <th>12998</th>\n",
       "      <td>f0d5ce4706b32ef7ba8f2cafe7895b19</td>\n",
       "      <td>2019-06-24 14:10:50.938540</td>\n",
       "      <td>2019-06-06 09:38:45.209868</td>\n",
       "      <td>CONTROL</td>\n",
       "      <td>2019-06-22 14:39:26.118</td>\n",
       "      <td>1.0</td>\n",
       "      <td>6-months</td>\n",
       "      <td>1.0</td>\n",
       "      <td>12-months</td>\n",
       "      <td>2019-06-24 08:03:00</td>\n",
       "      <td>2019-07-01 10:51:22</td>\n",
       "      <td>26.0</td>\n",
       "      <td>18</td>\n",
       "      <td>8.0</td>\n",
       "    </tr>\n",
       "  </tbody>\n",
       "</table>\n",
       "</div>"
      ],
      "text/plain": [
       "                                user_id                end_variant  \\\n",
       "3391   8e16a33ed971091fdc32af60685c81db 2019-06-24 14:10:50.938540   \n",
       "12889  b696fc0c2b72d780ede50c4e481f2f4c 2019-06-24 14:10:50.938540   \n",
       "12998  f0d5ce4706b32ef7ba8f2cafe7895b19 2019-06-24 14:10:50.938540   \n",
       "\n",
       "                   start_variant  variant             signup_date  trial  \\\n",
       "3391  2019-06-06 09:38:45.209868  CONTROL 2019-06-20 13:54:53.715    1.0   \n",
       "12889 2019-06-06 09:38:45.209868  CONTROL 2019-06-22 06:58:47.257    1.0   \n",
       "12998 2019-06-06 09:38:45.209868  CONTROL 2019-06-22 14:39:26.118    1.0   \n",
       "\n",
       "      plan_id_trial  subscription plan_id_sub  purchased_at_trial  \\\n",
       "3391       6-months           1.0    6-months 2019-06-20 13:59:45   \n",
       "12889      6-months           NaN         NaN 2019-11-03 14:53:53   \n",
       "12998      6-months           1.0   12-months 2019-06-24 08:03:00   \n",
       "\n",
       "         purchased_at_sub  amount  days_diff  days_signup_sub  \n",
       "3391  2019-06-27 13:59:45    12.0         18              7.0  \n",
       "12889                 NaT     NaN         18              NaN  \n",
       "12998 2019-07-01 10:51:22    26.0         18              8.0  "
      ]
     },
     "execution_count": 12,
     "metadata": {},
     "output_type": "execute_result"
    }
   ],
   "source": [
    "df.loc[(df.variant==\"CONTROL\") & (df.trial==1)]"
   ]
  },
  {
   "cell_type": "markdown",
   "metadata": {},
   "source": [
    "This is clearly a sampling error, because in the control variant there is not free-trial option. For this reason these three instances will be removed from the dataframe."
   ]
  },
  {
   "cell_type": "code",
   "execution_count": 13,
   "metadata": {},
   "outputs": [],
   "source": [
    "df = df.drop(df[(df.variant==\"CONTROL\") & (df.trial==1)].index)"
   ]
  },
  {
   "cell_type": "markdown",
   "metadata": {},
   "source": [
    "For the treatment group we expect to have 3 possible cases: \n",
    "1. users who had subscriptions without 7-days free trial\n",
    "2. users who started 7-days free trials without a subscription afterwards\n",
    "3. users who started 7-days free trials with a subscription afterwards"
   ]
  },
  {
   "cell_type": "code",
   "execution_count": 14,
   "metadata": {},
   "outputs": [
    {
     "data": {
      "text/html": [
       "<div>\n",
       "<style scoped>\n",
       "    .dataframe tbody tr th:only-of-type {\n",
       "        vertical-align: middle;\n",
       "    }\n",
       "\n",
       "    .dataframe tbody tr th {\n",
       "        vertical-align: top;\n",
       "    }\n",
       "\n",
       "    .dataframe thead th {\n",
       "        text-align: right;\n",
       "    }\n",
       "</style>\n",
       "<table border=\"1\" class=\"dataframe\">\n",
       "  <thead>\n",
       "    <tr style=\"text-align: right;\">\n",
       "      <th></th>\n",
       "      <th>user_id</th>\n",
       "      <th>end_variant</th>\n",
       "      <th>start_variant</th>\n",
       "      <th>variant</th>\n",
       "      <th>signup_date</th>\n",
       "      <th>trial</th>\n",
       "      <th>plan_id_trial</th>\n",
       "      <th>subscription</th>\n",
       "      <th>plan_id_sub</th>\n",
       "      <th>purchased_at_trial</th>\n",
       "      <th>purchased_at_sub</th>\n",
       "      <th>amount</th>\n",
       "      <th>days_diff</th>\n",
       "      <th>days_signup_sub</th>\n",
       "    </tr>\n",
       "  </thead>\n",
       "  <tbody>\n",
       "    <tr>\n",
       "      <th>14415</th>\n",
       "      <td>21f78b872332d9893c68ea3cdf6d3d0e</td>\n",
       "      <td>2019-06-24 14:11:08.027184</td>\n",
       "      <td>2019-06-06 09:31:54.843755</td>\n",
       "      <td>TREATMENT</td>\n",
       "      <td>2019-06-20 20:43:57.798</td>\n",
       "      <td>NaN</td>\n",
       "      <td>NaN</td>\n",
       "      <td>1.0</td>\n",
       "      <td>1-month</td>\n",
       "      <td>NaT</td>\n",
       "      <td>2019-08-15 09:56:10</td>\n",
       "      <td>4.0</td>\n",
       "      <td>18</td>\n",
       "      <td>55.0</td>\n",
       "    </tr>\n",
       "    <tr>\n",
       "      <th>14442</th>\n",
       "      <td>28bd4fa68e697440e501a95edf5692fa</td>\n",
       "      <td>2019-06-24 14:11:08.027184</td>\n",
       "      <td>2019-06-06 09:31:54.843755</td>\n",
       "      <td>TREATMENT</td>\n",
       "      <td>2019-06-20 08:03:03.913</td>\n",
       "      <td>NaN</td>\n",
       "      <td>NaN</td>\n",
       "      <td>1.0</td>\n",
       "      <td>1-month</td>\n",
       "      <td>NaT</td>\n",
       "      <td>2019-06-20 14:35:45</td>\n",
       "      <td>4.0</td>\n",
       "      <td>18</td>\n",
       "      <td>0.0</td>\n",
       "    </tr>\n",
       "    <tr>\n",
       "      <th>14623</th>\n",
       "      <td>5197afdcdb7173ddef76ed5c38bb1a72</td>\n",
       "      <td>2019-06-24 14:11:08.027184</td>\n",
       "      <td>2019-06-06 09:31:54.843755</td>\n",
       "      <td>TREATMENT</td>\n",
       "      <td>2019-06-23 00:09:52.244</td>\n",
       "      <td>NaN</td>\n",
       "      <td>NaN</td>\n",
       "      <td>1.0</td>\n",
       "      <td>1-month</td>\n",
       "      <td>NaT</td>\n",
       "      <td>2019-06-23 20:36:46</td>\n",
       "      <td>4.0</td>\n",
       "      <td>18</td>\n",
       "      <td>0.0</td>\n",
       "    </tr>\n",
       "    <tr>\n",
       "      <th>14642</th>\n",
       "      <td>1ddb561b471fe41c6ac6883e13bdfcb0</td>\n",
       "      <td>2019-06-24 14:11:08.027184</td>\n",
       "      <td>2019-06-06 09:31:54.843755</td>\n",
       "      <td>TREATMENT</td>\n",
       "      <td>2019-06-22 08:56:56.135</td>\n",
       "      <td>NaN</td>\n",
       "      <td>NaN</td>\n",
       "      <td>1.0</td>\n",
       "      <td>12-months</td>\n",
       "      <td>NaT</td>\n",
       "      <td>2019-06-22 09:37:50</td>\n",
       "      <td>26.0</td>\n",
       "      <td>18</td>\n",
       "      <td>0.0</td>\n",
       "    </tr>\n",
       "    <tr>\n",
       "      <th>14658</th>\n",
       "      <td>5972cc3f651794517aec7ffb8e110224</td>\n",
       "      <td>2019-06-24 14:11:08.027184</td>\n",
       "      <td>2019-06-06 09:31:54.843755</td>\n",
       "      <td>TREATMENT</td>\n",
       "      <td>2019-06-21 09:51:26.207</td>\n",
       "      <td>NaN</td>\n",
       "      <td>NaN</td>\n",
       "      <td>1.0</td>\n",
       "      <td>12-months</td>\n",
       "      <td>NaT</td>\n",
       "      <td>2019-06-29 07:36:56</td>\n",
       "      <td>23.0</td>\n",
       "      <td>18</td>\n",
       "      <td>7.0</td>\n",
       "    </tr>\n",
       "  </tbody>\n",
       "</table>\n",
       "</div>"
      ],
      "text/plain": [
       "                                user_id                end_variant  \\\n",
       "14415  21f78b872332d9893c68ea3cdf6d3d0e 2019-06-24 14:11:08.027184   \n",
       "14442  28bd4fa68e697440e501a95edf5692fa 2019-06-24 14:11:08.027184   \n",
       "14623  5197afdcdb7173ddef76ed5c38bb1a72 2019-06-24 14:11:08.027184   \n",
       "14642  1ddb561b471fe41c6ac6883e13bdfcb0 2019-06-24 14:11:08.027184   \n",
       "14658  5972cc3f651794517aec7ffb8e110224 2019-06-24 14:11:08.027184   \n",
       "\n",
       "                   start_variant    variant             signup_date  trial  \\\n",
       "14415 2019-06-06 09:31:54.843755  TREATMENT 2019-06-20 20:43:57.798    NaN   \n",
       "14442 2019-06-06 09:31:54.843755  TREATMENT 2019-06-20 08:03:03.913    NaN   \n",
       "14623 2019-06-06 09:31:54.843755  TREATMENT 2019-06-23 00:09:52.244    NaN   \n",
       "14642 2019-06-06 09:31:54.843755  TREATMENT 2019-06-22 08:56:56.135    NaN   \n",
       "14658 2019-06-06 09:31:54.843755  TREATMENT 2019-06-21 09:51:26.207    NaN   \n",
       "\n",
       "      plan_id_trial  subscription plan_id_sub purchased_at_trial  \\\n",
       "14415           NaN           1.0     1-month                NaT   \n",
       "14442           NaN           1.0     1-month                NaT   \n",
       "14623           NaN           1.0     1-month                NaT   \n",
       "14642           NaN           1.0   12-months                NaT   \n",
       "14658           NaN           1.0   12-months                NaT   \n",
       "\n",
       "         purchased_at_sub  amount  days_diff  days_signup_sub  \n",
       "14415 2019-08-15 09:56:10     4.0         18             55.0  \n",
       "14442 2019-06-20 14:35:45     4.0         18              0.0  \n",
       "14623 2019-06-23 20:36:46     4.0         18              0.0  \n",
       "14642 2019-06-22 09:37:50    26.0         18              0.0  \n",
       "14658 2019-06-29 07:36:56    23.0         18              7.0  "
      ]
     },
     "execution_count": 14,
     "metadata": {},
     "output_type": "execute_result"
    }
   ],
   "source": [
    "df.loc[(df.variant==\"TREATMENT\") & (df.trial.isna()==True) & (df.subscription==1)].head()"
   ]
  },
  {
   "cell_type": "code",
   "execution_count": 15,
   "metadata": {},
   "outputs": [
    {
     "data": {
      "text/html": [
       "<div>\n",
       "<style scoped>\n",
       "    .dataframe tbody tr th:only-of-type {\n",
       "        vertical-align: middle;\n",
       "    }\n",
       "\n",
       "    .dataframe tbody tr th {\n",
       "        vertical-align: top;\n",
       "    }\n",
       "\n",
       "    .dataframe thead th {\n",
       "        text-align: right;\n",
       "    }\n",
       "</style>\n",
       "<table border=\"1\" class=\"dataframe\">\n",
       "  <thead>\n",
       "    <tr style=\"text-align: right;\">\n",
       "      <th></th>\n",
       "      <th>user_id</th>\n",
       "      <th>end_variant</th>\n",
       "      <th>start_variant</th>\n",
       "      <th>variant</th>\n",
       "      <th>signup_date</th>\n",
       "      <th>trial</th>\n",
       "      <th>plan_id_trial</th>\n",
       "      <th>subscription</th>\n",
       "      <th>plan_id_sub</th>\n",
       "      <th>purchased_at_trial</th>\n",
       "      <th>purchased_at_sub</th>\n",
       "      <th>amount</th>\n",
       "      <th>days_diff</th>\n",
       "      <th>days_signup_sub</th>\n",
       "    </tr>\n",
       "  </thead>\n",
       "  <tbody>\n",
       "    <tr>\n",
       "      <th>14332</th>\n",
       "      <td>3eea7e4cf690ef90aee61c112ab65999</td>\n",
       "      <td>2019-06-24 14:11:08.027184</td>\n",
       "      <td>2019-06-06 09:31:54.843755</td>\n",
       "      <td>TREATMENT</td>\n",
       "      <td>2019-06-09 07:37:05.899</td>\n",
       "      <td>1.0</td>\n",
       "      <td>6-months</td>\n",
       "      <td>NaN</td>\n",
       "      <td>NaN</td>\n",
       "      <td>2019-06-09 07:37:23</td>\n",
       "      <td>NaT</td>\n",
       "      <td>NaN</td>\n",
       "      <td>18</td>\n",
       "      <td>NaN</td>\n",
       "    </tr>\n",
       "    <tr>\n",
       "      <th>14341</th>\n",
       "      <td>2c4c23a79cebc6a5e1ab2c570b65733a</td>\n",
       "      <td>2019-06-24 14:11:08.027184</td>\n",
       "      <td>2019-06-06 09:31:54.843755</td>\n",
       "      <td>TREATMENT</td>\n",
       "      <td>2019-06-09 01:37:18.040</td>\n",
       "      <td>1.0</td>\n",
       "      <td>6-months</td>\n",
       "      <td>NaN</td>\n",
       "      <td>NaN</td>\n",
       "      <td>2019-06-09 01:37:53</td>\n",
       "      <td>NaT</td>\n",
       "      <td>NaN</td>\n",
       "      <td>18</td>\n",
       "      <td>NaN</td>\n",
       "    </tr>\n",
       "    <tr>\n",
       "      <th>14387</th>\n",
       "      <td>643a3a383a78944efe2a0df3ecf1921f</td>\n",
       "      <td>2019-06-24 14:11:08.027184</td>\n",
       "      <td>2019-06-06 09:31:54.843755</td>\n",
       "      <td>TREATMENT</td>\n",
       "      <td>2019-06-14 17:10:28.198</td>\n",
       "      <td>1.0</td>\n",
       "      <td>6-months</td>\n",
       "      <td>NaN</td>\n",
       "      <td>NaN</td>\n",
       "      <td>2019-06-14 17:10:41</td>\n",
       "      <td>NaT</td>\n",
       "      <td>NaN</td>\n",
       "      <td>18</td>\n",
       "      <td>NaN</td>\n",
       "    </tr>\n",
       "    <tr>\n",
       "      <th>14539</th>\n",
       "      <td>2e69f2e8a4e12cf2e399ff656a38d9a4</td>\n",
       "      <td>2019-06-24 14:11:08.027184</td>\n",
       "      <td>2019-06-06 09:31:54.843755</td>\n",
       "      <td>TREATMENT</td>\n",
       "      <td>2019-06-23 08:07:20.753</td>\n",
       "      <td>1.0</td>\n",
       "      <td>6-months</td>\n",
       "      <td>NaN</td>\n",
       "      <td>NaN</td>\n",
       "      <td>2019-06-23 08:07:43</td>\n",
       "      <td>NaT</td>\n",
       "      <td>NaN</td>\n",
       "      <td>18</td>\n",
       "      <td>NaN</td>\n",
       "    </tr>\n",
       "    <tr>\n",
       "      <th>14540</th>\n",
       "      <td>65c18499e94331d9e1964ca25b94a8f7</td>\n",
       "      <td>2019-06-24 14:11:08.027184</td>\n",
       "      <td>2019-06-06 09:31:54.843755</td>\n",
       "      <td>TREATMENT</td>\n",
       "      <td>2019-06-24 11:11:02.151</td>\n",
       "      <td>1.0</td>\n",
       "      <td>6-months</td>\n",
       "      <td>NaN</td>\n",
       "      <td>NaN</td>\n",
       "      <td>2019-06-24 11:11:19</td>\n",
       "      <td>NaT</td>\n",
       "      <td>NaN</td>\n",
       "      <td>18</td>\n",
       "      <td>NaN</td>\n",
       "    </tr>\n",
       "  </tbody>\n",
       "</table>\n",
       "</div>"
      ],
      "text/plain": [
       "                                user_id                end_variant  \\\n",
       "14332  3eea7e4cf690ef90aee61c112ab65999 2019-06-24 14:11:08.027184   \n",
       "14341  2c4c23a79cebc6a5e1ab2c570b65733a 2019-06-24 14:11:08.027184   \n",
       "14387  643a3a383a78944efe2a0df3ecf1921f 2019-06-24 14:11:08.027184   \n",
       "14539  2e69f2e8a4e12cf2e399ff656a38d9a4 2019-06-24 14:11:08.027184   \n",
       "14540  65c18499e94331d9e1964ca25b94a8f7 2019-06-24 14:11:08.027184   \n",
       "\n",
       "                   start_variant    variant             signup_date  trial  \\\n",
       "14332 2019-06-06 09:31:54.843755  TREATMENT 2019-06-09 07:37:05.899    1.0   \n",
       "14341 2019-06-06 09:31:54.843755  TREATMENT 2019-06-09 01:37:18.040    1.0   \n",
       "14387 2019-06-06 09:31:54.843755  TREATMENT 2019-06-14 17:10:28.198    1.0   \n",
       "14539 2019-06-06 09:31:54.843755  TREATMENT 2019-06-23 08:07:20.753    1.0   \n",
       "14540 2019-06-06 09:31:54.843755  TREATMENT 2019-06-24 11:11:02.151    1.0   \n",
       "\n",
       "      plan_id_trial  subscription plan_id_sub  purchased_at_trial  \\\n",
       "14332      6-months           NaN         NaN 2019-06-09 07:37:23   \n",
       "14341      6-months           NaN         NaN 2019-06-09 01:37:53   \n",
       "14387      6-months           NaN         NaN 2019-06-14 17:10:41   \n",
       "14539      6-months           NaN         NaN 2019-06-23 08:07:43   \n",
       "14540      6-months           NaN         NaN 2019-06-24 11:11:19   \n",
       "\n",
       "      purchased_at_sub  amount  days_diff  days_signup_sub  \n",
       "14332              NaT     NaN         18              NaN  \n",
       "14341              NaT     NaN         18              NaN  \n",
       "14387              NaT     NaN         18              NaN  \n",
       "14539              NaT     NaN         18              NaN  \n",
       "14540              NaT     NaN         18              NaN  "
      ]
     },
     "execution_count": 15,
     "metadata": {},
     "output_type": "execute_result"
    }
   ],
   "source": [
    "df.loc[(df.variant==\"TREATMENT\") & (df.trial==1) & (df.subscription.isna()==True)].head()"
   ]
  },
  {
   "cell_type": "code",
   "execution_count": 16,
   "metadata": {},
   "outputs": [
    {
     "data": {
      "text/html": [
       "<div>\n",
       "<style scoped>\n",
       "    .dataframe tbody tr th:only-of-type {\n",
       "        vertical-align: middle;\n",
       "    }\n",
       "\n",
       "    .dataframe tbody tr th {\n",
       "        vertical-align: top;\n",
       "    }\n",
       "\n",
       "    .dataframe thead th {\n",
       "        text-align: right;\n",
       "    }\n",
       "</style>\n",
       "<table border=\"1\" class=\"dataframe\">\n",
       "  <thead>\n",
       "    <tr style=\"text-align: right;\">\n",
       "      <th></th>\n",
       "      <th>user_id</th>\n",
       "      <th>end_variant</th>\n",
       "      <th>start_variant</th>\n",
       "      <th>variant</th>\n",
       "      <th>signup_date</th>\n",
       "      <th>trial</th>\n",
       "      <th>plan_id_trial</th>\n",
       "      <th>subscription</th>\n",
       "      <th>plan_id_sub</th>\n",
       "      <th>purchased_at_trial</th>\n",
       "      <th>purchased_at_sub</th>\n",
       "      <th>amount</th>\n",
       "      <th>days_diff</th>\n",
       "      <th>days_signup_sub</th>\n",
       "    </tr>\n",
       "  </thead>\n",
       "  <tbody>\n",
       "    <tr>\n",
       "      <th>14352</th>\n",
       "      <td>476358b7b21556c594d5ba7c76237d2a</td>\n",
       "      <td>2019-06-24 14:11:08.027184</td>\n",
       "      <td>2019-06-06 09:31:54.843755</td>\n",
       "      <td>TREATMENT</td>\n",
       "      <td>2019-06-12 02:18:10.089</td>\n",
       "      <td>1.0</td>\n",
       "      <td>6-months</td>\n",
       "      <td>1.0</td>\n",
       "      <td>6-months</td>\n",
       "      <td>2019-06-12 02:19:53</td>\n",
       "      <td>2019-06-19 02:19:53</td>\n",
       "      <td>13.0</td>\n",
       "      <td>18</td>\n",
       "      <td>7.0</td>\n",
       "    </tr>\n",
       "    <tr>\n",
       "      <th>14356</th>\n",
       "      <td>26a0ce7d6bb1c1398b49241028bf5d55</td>\n",
       "      <td>2019-06-24 14:11:08.027184</td>\n",
       "      <td>2019-06-06 09:31:54.843755</td>\n",
       "      <td>TREATMENT</td>\n",
       "      <td>2019-06-13 00:44:22.413</td>\n",
       "      <td>1.0</td>\n",
       "      <td>6-months</td>\n",
       "      <td>1.0</td>\n",
       "      <td>1-month</td>\n",
       "      <td>2019-06-13 00:45:00</td>\n",
       "      <td>2019-07-06 21:21:16</td>\n",
       "      <td>4.0</td>\n",
       "      <td>18</td>\n",
       "      <td>23.0</td>\n",
       "    </tr>\n",
       "    <tr>\n",
       "      <th>14416</th>\n",
       "      <td>56a170156385869be953ec09aceb2301</td>\n",
       "      <td>2019-06-24 14:11:08.027184</td>\n",
       "      <td>2019-06-06 09:31:54.843755</td>\n",
       "      <td>TREATMENT</td>\n",
       "      <td>2019-06-15 17:12:12.215</td>\n",
       "      <td>1.0</td>\n",
       "      <td>6-months</td>\n",
       "      <td>1.0</td>\n",
       "      <td>6-months</td>\n",
       "      <td>2019-06-15 17:12:27</td>\n",
       "      <td>2019-06-22 17:12:27</td>\n",
       "      <td>12.0</td>\n",
       "      <td>18</td>\n",
       "      <td>7.0</td>\n",
       "    </tr>\n",
       "    <tr>\n",
       "      <th>14423</th>\n",
       "      <td>697b0954ba7dca501ab8e593384dd506</td>\n",
       "      <td>2019-06-24 14:11:08.027184</td>\n",
       "      <td>2019-06-06 09:31:54.843755</td>\n",
       "      <td>TREATMENT</td>\n",
       "      <td>2019-06-19 19:45:01.705</td>\n",
       "      <td>1.0</td>\n",
       "      <td>6-months</td>\n",
       "      <td>1.0</td>\n",
       "      <td>6-months</td>\n",
       "      <td>2019-06-19 19:45:15</td>\n",
       "      <td>2019-06-26 19:45:15</td>\n",
       "      <td>12.0</td>\n",
       "      <td>18</td>\n",
       "      <td>7.0</td>\n",
       "    </tr>\n",
       "    <tr>\n",
       "      <th>14448</th>\n",
       "      <td>68cb3adc04eb5ff2beeb6589f4656e40</td>\n",
       "      <td>2019-06-24 14:11:08.027184</td>\n",
       "      <td>2019-06-06 09:31:54.843755</td>\n",
       "      <td>TREATMENT</td>\n",
       "      <td>2019-06-23 08:34:26.873</td>\n",
       "      <td>1.0</td>\n",
       "      <td>6-months</td>\n",
       "      <td>1.0</td>\n",
       "      <td>6-months</td>\n",
       "      <td>2019-06-23 08:34:47</td>\n",
       "      <td>2019-06-30 08:34:47</td>\n",
       "      <td>12.0</td>\n",
       "      <td>18</td>\n",
       "      <td>7.0</td>\n",
       "    </tr>\n",
       "  </tbody>\n",
       "</table>\n",
       "</div>"
      ],
      "text/plain": [
       "                                user_id                end_variant  \\\n",
       "14352  476358b7b21556c594d5ba7c76237d2a 2019-06-24 14:11:08.027184   \n",
       "14356  26a0ce7d6bb1c1398b49241028bf5d55 2019-06-24 14:11:08.027184   \n",
       "14416  56a170156385869be953ec09aceb2301 2019-06-24 14:11:08.027184   \n",
       "14423  697b0954ba7dca501ab8e593384dd506 2019-06-24 14:11:08.027184   \n",
       "14448  68cb3adc04eb5ff2beeb6589f4656e40 2019-06-24 14:11:08.027184   \n",
       "\n",
       "                   start_variant    variant             signup_date  trial  \\\n",
       "14352 2019-06-06 09:31:54.843755  TREATMENT 2019-06-12 02:18:10.089    1.0   \n",
       "14356 2019-06-06 09:31:54.843755  TREATMENT 2019-06-13 00:44:22.413    1.0   \n",
       "14416 2019-06-06 09:31:54.843755  TREATMENT 2019-06-15 17:12:12.215    1.0   \n",
       "14423 2019-06-06 09:31:54.843755  TREATMENT 2019-06-19 19:45:01.705    1.0   \n",
       "14448 2019-06-06 09:31:54.843755  TREATMENT 2019-06-23 08:34:26.873    1.0   \n",
       "\n",
       "      plan_id_trial  subscription plan_id_sub  purchased_at_trial  \\\n",
       "14352      6-months           1.0    6-months 2019-06-12 02:19:53   \n",
       "14356      6-months           1.0     1-month 2019-06-13 00:45:00   \n",
       "14416      6-months           1.0    6-months 2019-06-15 17:12:27   \n",
       "14423      6-months           1.0    6-months 2019-06-19 19:45:15   \n",
       "14448      6-months           1.0    6-months 2019-06-23 08:34:47   \n",
       "\n",
       "         purchased_at_sub  amount  days_diff  days_signup_sub  \n",
       "14352 2019-06-19 02:19:53    13.0         18              7.0  \n",
       "14356 2019-07-06 21:21:16     4.0         18             23.0  \n",
       "14416 2019-06-22 17:12:27    12.0         18              7.0  \n",
       "14423 2019-06-26 19:45:15    12.0         18              7.0  \n",
       "14448 2019-06-30 08:34:47    12.0         18              7.0  "
      ]
     },
     "execution_count": 16,
     "metadata": {},
     "output_type": "execute_result"
    }
   ],
   "source": [
    "df.loc[(df.variant==\"TREATMENT\") & (df.trial==1) & (df.subscription==1)].head()"
   ]
  },
  {
   "cell_type": "markdown",
   "metadata": {},
   "source": [
    "# A/B Testing: chosen KPIs"
   ]
  },
  {
   "cell_type": "markdown",
   "metadata": {},
   "source": [
    "- **Conversion Rate (CR) (or Subscription Rate)** : The percentage of signed-up visitors that subscribed for a plan. This action converts them from visitors to customers. The conversion rate is defined as: __number of customers who subscribed/number of unique visitors__"
   ]
  },
  {
   "cell_type": "markdown",
   "metadata": {},
   "source": [
    "- **Average Order Value (AOV)**: Only tracking the CR is not a good idea. Indeed we have to consider also the revenue : sometimes it may so happen that revenues can drop because of a dip in subscriptions among high paying customers (meaning less 1-year or lifetime and more 1-month subscription plans). In order to tackle this case the Average Order Value must be tracked, defined as : **Total revenue/number of customers who subscribed**"
   ]
  },
  {
   "cell_type": "markdown",
   "metadata": {},
   "source": [
    "- **Retention Rate**: If these users do not become to paying members after the trial period, it could actually be losing revenue for the company. So it is important also to check the retention rate defined as: **number of successful renewals after the trial / number of unique free-trial users**"
   ]
  },
  {
   "cell_type": "markdown",
   "metadata": {},
   "source": [
    "# A/B Testing: statistics"
   ]
  },
  {
   "cell_type": "markdown",
   "metadata": {},
   "source": [
    "- __Confidence level__ : The interval estimate is slightly more complex and depends partly on how certain we need to be in our estimate. For A/B testing usually we have a confidence interval of 95%. A 95 percent confidence level indicates we are 95 percent confident the true population value lies under this interval."
   ]
  },
  {
   "cell_type": "markdown",
   "metadata": {},
   "source": [
    "- __alpha (α)__ : alpha refers to the likelihood that the true population value lies outside the confidence interval. Thus, if the confidence level is 95%, then _alpha_ would equal 1 - 0.95 and thus 0.05. Indeed alpha is the probability of making a Type I error, which is asserting something that is absent (false positive)."
   ]
  },
  {
   "cell_type": "markdown",
   "metadata": {},
   "source": [
    "- __beta (β)__ : I decided to have a statistical power of 0.80 and from that I calculated the minumum sample size:\n",
    "\n",
    "    - _conversion rate (CR)_ : I have seen that the conversion rate of the treatment group (4.19%) was 33.91% higher than control group (3.13%) with probability that the test correctly rejects the null hypothesis of 80%. I used an online calculator to get the needed sample size of the treatment group, which is of 1293 for:\n",
    "       1. baseline CR of 3.13 %\n",
    "       2. minimum detectable effect of 2%\n",
    "       3. power of 0.80\n",
    "       4. alpha of 0.05\n",
    "\n",
    "    - _average order value (AOV)_: for a not-binary metric there is not an online calculator. So since I used a non-parametric test (Mann-Whitney U test) to test differences in the variants for AOV, I decided to calculate the needed sample size for its parametric equivalent - T-test in Python (by using the method solve_power() from the TTestIndPower class of the statsmodels library) and then multiply it by 1.15, because for non-parametric test the sample size is most 15% bigger than the sample size required for the parametric alternative. So the minimal sample size is of 30 for :\n",
    "        1. large effect size for Cohen’s d of 0.80\n",
    "        2. power of 0.80\n",
    "        3. alpha of 0.05"
   ]
  },
  {
   "cell_type": "markdown",
   "metadata": {},
   "source": [
    "Python code for the calculation of AOV minimal sample size:"
   ]
  },
  {
   "cell_type": "code",
   "execution_count": 46,
   "metadata": {},
   "outputs": [
    {
     "name": "stdout",
     "output_type": "stream",
     "text": [
      "Minimal sample size for Mann-Whitney U test: 43.833\n"
     ]
    }
   ],
   "source": [
    "analysis = TTestIndPower()\n",
    "effect_size = 0.8\n",
    "alpha = 0.05\n",
    "power = 0.8\n",
    "multiply_mwutest = 1.15\n",
    "sample_size_ttest = analysis.solve_power(effect_size,\n",
    "                                         power=power,\n",
    "                                         nobs1=None,\n",
    "                                         ratio=0.5,\n",
    "                                         alpha=alpha)\n",
    "sample_size_mwutest = sample_size_ttest * multiply_mwutest\n",
    "print('Minimal sample size for Mann-Whitney U test: %.3f' % sample_size_mwutest)"
   ]
  },
  {
   "cell_type": "markdown",
   "metadata": {},
   "source": [
    "## Conversion Rate: Z-test "
   ]
  },
  {
   "cell_type": "code",
   "execution_count": 18,
   "metadata": {},
   "outputs": [],
   "source": [
    "control_subscriptions = df.loc[(df.subscription==1) \n",
    "                             & (df.variant==\"CONTROL\")][\"user_id\"].count()"
   ]
  },
  {
   "cell_type": "code",
   "execution_count": 19,
   "metadata": {},
   "outputs": [],
   "source": [
    "control_unique_visitors = df.loc[df.variant==\"CONTROL\"][\"user_id\"].count()"
   ]
  },
  {
   "cell_type": "code",
   "execution_count": 20,
   "metadata": {},
   "outputs": [],
   "source": [
    "treatment_subscriptions = df.loc[(df.subscription==1) \n",
    "                             & (df.variant==\"TREATMENT\")][\"user_id\"].count()"
   ]
  },
  {
   "cell_type": "code",
   "execution_count": 21,
   "metadata": {},
   "outputs": [],
   "source": [
    "treatment_unique_visitors = df.loc[df.variant==\"TREATMENT\"][\"user_id\"].count()"
   ]
  },
  {
   "cell_type": "code",
   "execution_count": 22,
   "metadata": {},
   "outputs": [
    {
     "name": "stdout",
     "output_type": "stream",
     "text": [
      "Conversion Rate of Control Group: € 0.03129584352078239\n",
      "Conversion Rate of Treatment Group: € 0.04190959599423829\n"
     ]
    }
   ],
   "source": [
    "print('Conversion Rate of Control Group: €', control_subscriptions/control_unique_visitors)\n",
    "print('Conversion Rate of Treatment Group: €', treatment_subscriptions/treatment_unique_visitors)"
   ]
  },
  {
   "cell_type": "code",
   "execution_count": 23,
   "metadata": {},
   "outputs": [],
   "source": [
    "cr_df = pd.DataFrame({\n",
    "    \"Subscribed\": [control_subscriptions, treatment_subscriptions],\n",
    "    \"Total\": [control_unique_visitors, treatment_unique_visitors]\n",
    "    }, index=['CONTROL', 'TREATMENT'])"
   ]
  },
  {
   "cell_type": "markdown",
   "metadata": {},
   "source": [
    "For our CR metric, z-test is conducted: firstly we check whether the two CONTROL and TREATMENT groups differ. "
   ]
  },
  {
   "cell_type": "code",
   "execution_count": 24,
   "metadata": {},
   "outputs": [],
   "source": [
    "ztest1, pval_ztest1 = proportions_ztest(\n",
    "    count=cr_df.Subscribed, nobs=cr_df.Total, alternative='two-sided')"
   ]
  },
  {
   "cell_type": "code",
   "execution_count": 25,
   "metadata": {},
   "outputs": [
    {
     "name": "stdout",
     "output_type": "stream",
     "text": [
      "reject null hypothesis\n"
     ]
    }
   ],
   "source": [
    "if pval_ztest1<0.05:\n",
    "    print(\"reject null hypothesis\")\n",
    "else:\n",
    "    print(\"accept null hypothesis\")"
   ]
  },
  {
   "cell_type": "markdown",
   "metadata": {},
   "source": [
    "Yes they differ. Now it is time to conduct one-sided Z test. We set the alternative as : smaller meanining that the alternative hypothesis H1 is CONTROL CR < TREATMENT CR."
   ]
  },
  {
   "cell_type": "code",
   "execution_count": 26,
   "metadata": {},
   "outputs": [],
   "source": [
    "ztest2, pval_ztest2 = proportions_ztest(\n",
    "    count=cr_df.Subscribed, nobs=cr_df.Total, alternative='smaller')"
   ]
  },
  {
   "cell_type": "code",
   "execution_count": 27,
   "metadata": {},
   "outputs": [
    {
     "name": "stdout",
     "output_type": "stream",
     "text": [
      "reject null hypothesis\n"
     ]
    }
   ],
   "source": [
    "if pval_ztest1<0.025:\n",
    "    print(\"reject null hypothesis\")\n",
    "else:\n",
    "    print(\"accept null hypothesis\")"
   ]
  },
  {
   "cell_type": "markdown",
   "metadata": {},
   "source": [
    "We can accept the alternative hypothesis being that the conversion rate of the alternative treatment is smaller than the control group. So we can say that the **TREATMENT variant with a 7-days free trial is the winning variant for the conversion rate**."
   ]
  },
  {
   "cell_type": "markdown",
   "metadata": {},
   "source": [
    "## Average Order Value : Mann-Whitney U test"
   ]
  },
  {
   "cell_type": "markdown",
   "metadata": {},
   "source": [
    "Now an analysis is conducted to see whether the two groups , CONTROL and TREATMENT, differ for the second chosen matric, the average order value. We first calculate it for each group."
   ]
  },
  {
   "cell_type": "code",
   "execution_count": 28,
   "metadata": {},
   "outputs": [],
   "source": [
    "control_aov = df.loc[(df.subscription==1) \n",
    "                             & (df.variant==\"CONTROL\")][\"amount\"].sum()/control_subscriptions"
   ]
  },
  {
   "cell_type": "code",
   "execution_count": 29,
   "metadata": {},
   "outputs": [],
   "source": [
    "treatment_aov = df.loc[(df.subscription==1) \n",
    "                             & (df.variant==\"TREATMENT\")][\"amount\"].sum()/treatment_subscriptions"
   ]
  },
  {
   "cell_type": "code",
   "execution_count": 30,
   "metadata": {},
   "outputs": [
    {
     "name": "stdout",
     "output_type": "stream",
     "text": [
      "Average Order Value of Control Group: € 12.448660714285714\n",
      "Average Order Value of Treatment Group: € 11.74631751227496\n"
     ]
    }
   ],
   "source": [
    "print('Average Order Value of Control Group: €', control_aov)\n",
    "print('Average Order Value of Treatment Group: €', treatment_aov)"
   ]
  },
  {
   "cell_type": "code",
   "execution_count": 31,
   "metadata": {},
   "outputs": [
    {
     "data": {
      "text/plain": [
       "<matplotlib.axes._subplots.AxesSubplot at 0x7fc9c1fca7b8>"
      ]
     },
     "execution_count": 31,
     "metadata": {},
     "output_type": "execute_result"
    },
    {
     "data": {
      "image/png": "[encoded data removed]",
      "text/plain": [
       "<Figure size 432x288 with 1 Axes>"
      ]
     },
     "metadata": {
      "needs_background": "light"
     },
     "output_type": "display_data"
    }
   ],
   "source": [
    "sn.distplot(df.loc[(df.subscription==1) \n",
    "                             & (df.variant==\"CONTROL\")][\"amount\"])\n",
    "sn.distplot(df.loc[(df.subscription==1) \n",
    "                             & (df.variant==\"TREATMENT\")][\"amount\"])"
   ]
  },
  {
   "cell_type": "markdown",
   "metadata": {},
   "source": [
    "Since we want to compare differences between two independent groups (with different sample sizes) for the continuous variable amount, but the groups are not normally distributed as we can see from the histogram above, the Mann-Whitney U test is used."
   ]
  },
  {
   "cell_type": "code",
   "execution_count": 32,
   "metadata": {},
   "outputs": [],
   "source": [
    "stat1, pval_mw1 = mannwhitneyu(df.loc[(df.subscription==1) \n",
    "                             & (df.variant==\"CONTROL\")][\"amount\"], \n",
    "                               df.loc[(df.subscription==1) \n",
    "                             & (df.variant==\"TREATMENT\")][\"amount\"], alternative='two-sided')"
   ]
  },
  {
   "cell_type": "code",
   "execution_count": 33,
   "metadata": {},
   "outputs": [
    {
     "name": "stdout",
     "output_type": "stream",
     "text": [
      "accept null hypothesis\n"
     ]
    }
   ],
   "source": [
    "if pval_mw1<0.05:\n",
    "    print(\"reject null hypothesis\")\n",
    "else:\n",
    "    print(\"accept null hypothesis\")"
   ]
  },
  {
   "cell_type": "markdown",
   "metadata": {},
   "source": [
    "The null hypothesis is accepted that the AOV for the CONTROL and EXPERIMENT groups don't differ significantly."
   ]
  },
  {
   "cell_type": "markdown",
   "metadata": {},
   "source": [
    "## Retention Rate and exploratory analysis "
   ]
  },
  {
   "cell_type": "code",
   "execution_count": 34,
   "metadata": {},
   "outputs": [],
   "source": [
    "successful_renewals = df.loc[(df.trial==1) & (df.subscription==1) \n",
    "                             & (df.variant==\"TREATMENT\")][\"user_id\"].count()"
   ]
  },
  {
   "cell_type": "code",
   "execution_count": 35,
   "metadata": {},
   "outputs": [],
   "source": [
    "number_free_trial_users = df.loc[(df.trial==1)\n",
    "                             & (df.variant==\"TREATMENT\")][\"user_id\"].count()"
   ]
  },
  {
   "cell_type": "code",
   "execution_count": 36,
   "metadata": {},
   "outputs": [
    {
     "name": "stdout",
     "output_type": "stream",
     "text": [
      "Retention Rate for the 7-days free trial:  0.3684210526315789\n"
     ]
    }
   ],
   "source": [
    "print('Retention Rate for the 7-days free trial: ', successful_renewals/number_free_trial_users)"
   ]
  },
  {
   "cell_type": "markdown",
   "metadata": {},
   "source": [
    "We can see that 36% of the users who started the 7-days free trial eventually subscribed for a specific plan."
   ]
  },
  {
   "cell_type": "code",
   "execution_count": 37,
   "metadata": {},
   "outputs": [
    {
     "data": {
      "text/plain": [
       "6-months     0.914286\n",
       "1-month      0.057143\n",
       "12-months    0.025397\n",
       "3-months     0.003175\n",
       "Name: plan_id_sub, dtype: float64"
      ]
     },
     "execution_count": 37,
     "metadata": {},
     "output_type": "execute_result"
    }
   ],
   "source": [
    "df.loc[(df.trial==1) \n",
    "       & (df.subscription==1) \n",
    "       & (df.variant==\"TREATMENT\")][\"plan_id_sub\"].value_counts()/successful_renewals"
   ]
  },
  {
   "cell_type": "markdown",
   "metadata": {},
   "source": [
    "We can also add that the most chosen plan after the trial is the 6-months plan for the trial users who subscribed."
   ]
  },
  {
   "cell_type": "code",
   "execution_count": 38,
   "metadata": {},
   "outputs": [],
   "source": [
    "successful_renewals_df = df.loc[(df.trial==1) \n",
    "       & (df.subscription==1) & (df.variant==\"TREATMENT\")]"
   ]
  },
  {
   "cell_type": "code",
   "execution_count": 39,
   "metadata": {},
   "outputs": [
    {
     "data": {
      "text/plain": [
       "<matplotlib.axes._subplots.AxesSubplot at 0x7fc9c1e4f208>"
      ]
     },
     "execution_count": 39,
     "metadata": {},
     "output_type": "execute_result"
    },
    {
     "data": {
      "image/png": "[encoded data removed]",
      "text/plain": [
       "<Figure size 1440x720 with 1 Axes>"
      ]
     },
     "metadata": {
      "needs_background": "light"
     },
     "output_type": "display_data"
    }
   ],
   "source": [
    "fig, ax = plt.subplots(figsize=(20, 10))\n",
    "sn.barplot(data=successful_renewals_df[['amount', 'plan_id_sub']],\n",
    "            x='plan_id_sub', y='amount', ax=ax)"
   ]
  },
  {
   "cell_type": "markdown",
   "metadata": {},
   "source": [
    "The revenue mean in euros for subscription plans after a trial period are:\n",
    "- 6-months plan: 12.12 €\n",
    "- 1-month plan: 3.66 €\n",
    "- 12-months plan: 25.50 €\n",
    "- 8-months plan: 8.0 €"
   ]
  },
  {
   "cell_type": "code",
   "execution_count": 40,
   "metadata": {},
   "outputs": [],
   "source": [
    "df['types_subscriptions'] = np.nan\n",
    "df.loc[(df.subscription==1) & (df.variant==\"CONTROL\"), 'types_subscriptions'] = 'control_subscr'\n",
    "df.loc[(df.trial.isna()==True) \n",
    "       & (df.subscription==1) \n",
    "       & (df.variant==\"TREATMENT\"), 'types_subscriptions'] = 'treatment_subscr'\n",
    "df.loc[(df.trial==1) \n",
    "       & (df.subscription==1) \n",
    "       & (df.variant==\"TREATMENT\"), 'types_subscriptions'] = 'treatment_trial_subscr'"
   ]
  },
  {
   "cell_type": "code",
   "execution_count": 41,
   "metadata": {},
   "outputs": [
    {
     "data": {
      "text/plain": [
       "<matplotlib.axes._subplots.AxesSubplot at 0x7fc9c1e2ce80>"
      ]
     },
     "execution_count": 41,
     "metadata": {},
     "output_type": "execute_result"
    },
    {
     "data": {
      "image/png": "[encoded data removed]",
      "text/plain": [
       "<Figure size 1440x720 with 1 Axes>"
      ]
     },
     "metadata": {
      "needs_background": "light"
     },
     "output_type": "display_data"
    }
   ],
   "source": [
    "df_days_sub = df.loc[df.days_signup_sub!=0]\n",
    "fig, ax = plt.subplots(figsize=(20, 10))\n",
    "sn.barplot(data=df_days_sub[['days_signup_sub', 'types_subscriptions']],\n",
    "            x='types_subscriptions', y='days_signup_sub', ax=ax)"
   ]
  },
  {
   "cell_type": "markdown",
   "metadata": {},
   "source": [
    "On the graph above, the days mean from the signup date to the subscriptions with the types of subscriptions is displayed. On the x-axis, the subscription without 7-days free trial type from the control group (blue bar), the subscription without 7-days free trial type from the tratment group (green bar) and the subscription with 7-days free trial type from the treatment group (orange bar) are depicted. Interestingly, the days' mean for the same subscription without free trial change between CONTROL and TREATMENT groups, showing that in the TREATMENT group users need more time."
   ]
  },
  {
   "cell_type": "code",
   "execution_count": 42,
   "metadata": {},
   "outputs": [
    {
     "data": {
      "text/plain": [
       "<matplotlib.axes._subplots.AxesSubplot at 0x7fc9c1cc8fd0>"
      ]
     },
     "execution_count": 42,
     "metadata": {},
     "output_type": "execute_result"
    },
    {
     "data": {
      "image/png": "[encoded data removed]",
      "text/plain": [
       "<Figure size 1440x720 with 1 Axes>"
      ]
     },
     "metadata": {
      "needs_background": "light"
     },
     "output_type": "display_data"
    }
   ],
   "source": [
    "df_days_sub = df_days_sub.loc[df_days_sub.types_subscriptions!='treatment_trial_subscr']\n",
    "fig, ax = plt.subplots(figsize=(20, 10))\n",
    "sn.barplot(data=df_days_sub[['days_signup_sub', 'types_subscriptions', 'plan_id_sub']],\n",
    "            x='types_subscriptions', y='days_signup_sub', hue='plan_id_sub', ax=ax)"
   ]
  },
  {
   "cell_type": "markdown",
   "metadata": {},
   "source": [
    "In order to explore in depth the data, the graph above displays the plan types for the control and treatment subscription without the free trial. \n",
    "- both group suscriptions show the same types of chosen plans\n",
    "- the days' mean is higher in general for the treatment group compared to the control group, particularly for the 6-months and lifetime plans, although also their variance is also higher.\n",
    "\n",
    "\n",
    "Further analysis would be beneficial."
   ]
  },
  {
   "cell_type": "markdown",
   "metadata": {},
   "source": [
    "# Intepretation of results"
   ]
  },
  {
   "cell_type": "markdown",
   "metadata": {},
   "source": [
    "The subscription plans with the option of a 7-days free trial (treatment group) is tested with the control version of different subscription plans (control group). As metrics the conversion rate and average order value are considered. \n",
    "\n",
    "For the conversion rate of the treatment group resulted to be significantly higher than the control group, recognizing the treatment variant as the winning variant. Furthermore, it can occur that although the conversation rate has been increased with the free-trial option, there could be a revenue decrease because of an increase of low-price subscription plans. For this reason the average of order price is also taken into consideration, which results not to significantly change in the winning variant from the control group.\n",
    "\n",
    "Additional exploratory analysis has been conducted, finding that 36% of users starting the 7-days free trial ended up subscribing for the 91% of the time for the 6-months plan, with a revenue mean of 12.12 €. Furthermore, it seems that the users suscribing without a free trial, are faster when they are not provided with a free-trial option. This must be further analysed."
   ]
  }
 ],
 "metadata": {
  "kernelspec": {
   "display_name": "Python 3",
   "language": "python",
   "name": "python3"
  },
  "language_info": {
   "codemirror_mode": {
    "name": "ipython",
    "version": 3
   },
   "file_extension": ".py",
   "mimetype": "text/x-python",
   "name": "python",
   "nbconvert_exporter": "python",
   "pygments_lexer": "ipython3",
   "version": "3.6.1"
  }
 },
 "nbformat": 4,
 "nbformat_minor": 4
}
